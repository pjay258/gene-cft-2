{
 "cells": [
  {
   "cell_type": "code",
   "execution_count": 1,
   "metadata": {},
   "outputs": [],
   "source": [
    "import torch\n",
    "from utils.networks import return_resnet18\n",
    "import os\n",
    "from utils.loops import train, valid, test\n",
    "import wandb\n",
    "from utils.dataloader import return_dataloaders\n",
    "from utils.utils import GeneralizedCELoss\n",
    "import torch.optim as optim\n",
    "from utils.seed import fix"
   ]
  },
  {
   "cell_type": "code",
   "execution_count": 2,
   "metadata": {},
   "outputs": [],
   "source": [
    "# parser = argparse.ArgumentParser(description='Training BCD')\n",
    "# parser.add_argument('-seed', required=True, type=int, help=\"random seed\")\n",
    "# parser.add_argument('-cuda', required=True, type=int, help=\"gpu\")\n",
    "# parser.add_argument('-device', required=False, type=str, help=\"device\")\n",
    "# args = parser.parse_args()"
   ]
  },
  {
   "cell_type": "code",
   "execution_count": 3,
   "metadata": {},
   "outputs": [],
   "source": [
    "###############################################\n",
    "# GPU Setting\n",
    "os.environ['CUDA_VISIBLE_DEVICES'] = '0'\n",
    "\n",
    "# Random seed\n",
    "seed = 0\n",
    "\n",
    "# WandB\n",
    "remote = True\n",
    "project_name = 'Deboost - mar 2'\n",
    "run_name = f'BCD {seed} | seed: {seed}'\n",
    "\n",
    "# Training details\n",
    "epochs = 3\n",
    "learning_rate = 0.0001\n",
    "batch_size = 64\n",
    "device = 'cuda'\n",
    "\n",
    "# Save models\n",
    "save = True\n",
    "save_path = './BCD_models/'\n",
    "###############################################"
   ]
  },
  {
   "cell_type": "code",
   "execution_count": 4,
   "metadata": {},
   "outputs": [
    {
     "name": "stdout",
     "output_type": "stream",
     "text": [
      "\n",
      "============================\n",
      "Random seed has been fixed.\n",
      "Seed: 0\n",
      "============================\n",
      "\n"
     ]
    }
   ],
   "source": [
    "fix(seed)"
   ]
  },
  {
   "cell_type": "code",
   "execution_count": 5,
   "metadata": {},
   "outputs": [],
   "source": [
    "model = return_resnet18(num_classes=2)"
   ]
  },
  {
   "cell_type": "code",
   "execution_count": 6,
   "metadata": {},
   "outputs": [],
   "source": [
    "dataloaders = return_dataloaders(dataset='bffhq',\n",
    "                                root='../../dataset/', \n",
    "                                batch_size=batch_size,)\n",
    "loss_fn = GeneralizedCELoss()\n",
    "optimizer = optim.Adam(params = model.parameters(), lr=learning_rate)"
   ]
  },
  {
   "cell_type": "code",
   "execution_count": 7,
   "metadata": {},
   "outputs": [
    {
     "name": "stderr",
     "output_type": "stream",
     "text": [
      "Failed to detect the name of this notebook, you can set it manually with the WANDB_NOTEBOOK_NAME environment variable to enable code saving.\n",
      "\u001b[34m\u001b[1mwandb\u001b[0m: Currently logged in as: \u001b[33mhydrated-kapri\u001b[0m. Use \u001b[1m`wandb login --relogin`\u001b[0m to force relogin\n"
     ]
    },
    {
     "data": {
      "text/html": [
       "Tracking run with wandb version 0.16.3"
      ],
      "text/plain": [
       "<IPython.core.display.HTML object>"
      ]
     },
     "metadata": {},
     "output_type": "display_data"
    },
    {
     "data": {
      "text/html": [
       "Run data is saved locally in <code>/home/zungwooker/gene-cft-2/preprocess/PBA/wandb/run-20240302_224804-ulcp2v6i</code>"
      ],
      "text/plain": [
       "<IPython.core.display.HTML object>"
      ]
     },
     "metadata": {},
     "output_type": "display_data"
    },
    {
     "data": {
      "text/html": [
       "Syncing run <strong><a href='https://wandb.ai/hydrated-kapri/Deboost%20-%20mar%202/runs/ulcp2v6i' target=\"_blank\">BCD 0 | seed: 0</a></strong> to <a href='https://wandb.ai/hydrated-kapri/Deboost%20-%20mar%202' target=\"_blank\">Weights & Biases</a> (<a href='https://wandb.me/run' target=\"_blank\">docs</a>)<br/>"
      ],
      "text/plain": [
       "<IPython.core.display.HTML object>"
      ]
     },
     "metadata": {},
     "output_type": "display_data"
    },
    {
     "data": {
      "text/html": [
       " View project at <a href='https://wandb.ai/hydrated-kapri/Deboost%20-%20mar%202' target=\"_blank\">https://wandb.ai/hydrated-kapri/Deboost%20-%20mar%202</a>"
      ],
      "text/plain": [
       "<IPython.core.display.HTML object>"
      ]
     },
     "metadata": {},
     "output_type": "display_data"
    },
    {
     "data": {
      "text/html": [
       " View run at <a href='https://wandb.ai/hydrated-kapri/Deboost%20-%20mar%202/runs/ulcp2v6i' target=\"_blank\">https://wandb.ai/hydrated-kapri/Deboost%20-%20mar%202/runs/ulcp2v6i</a>"
      ],
      "text/plain": [
       "<IPython.core.display.HTML object>"
      ]
     },
     "metadata": {},
     "output_type": "display_data"
    }
   ],
   "source": [
    "# WandB settings\n",
    "if remote:\n",
    "    wandb.init(\n",
    "        project=project_name,\n",
    "        name=run_name,\n",
    "        config={\n",
    "            \"random seed\": seed,\n",
    "            \"learning_rate\": learning_rate,\n",
    "            \"batch_size\": batch_size, \n",
    "            \"epochs\": epochs,\n",
    "            \"note\": ''\n",
    "        }\n",
    "    )\n",
    "    wandb.define_metric(\"Train/*\", step_metric=\"Batch step\")\n",
    "    wandb.define_metric(\"Valid/*\", step_metric=\"Epoch step\")\n",
    "    wandb.define_metric(\"Accuracy/*\", step_metric=\"Epoch step\")"
   ]
  },
  {
   "cell_type": "code",
   "execution_count": 8,
   "metadata": {},
   "outputs": [
    {
     "name": "stdout",
     "output_type": "stream",
     "text": [
      "Epochs: 0\n",
      "\n",
      "============================\n",
      "Random seed has been fixed.\n",
      "Seed: 0\n",
      "============================\n",
      "\n",
      "Epochs: 1\n",
      "\n",
      "============================\n",
      "Random seed has been fixed.\n",
      "Seed: 0\n",
      "============================\n",
      "\n",
      "Epochs: 2\n",
      "\n",
      "============================\n",
      "Random seed has been fixed.\n",
      "Seed: 0\n",
      "============================\n",
      "\n"
     ]
    }
   ],
   "source": [
    "for epoch in range(epochs):\n",
    "    train(remote=True,\n",
    "    model=model,\n",
    "    epoch=epoch,\n",
    "    device=device,\n",
    "    dataloaders=dataloaders,\n",
    "    optimizer=optimizer,\n",
    "    loss_fn=loss_fn,\n",
    "    loss_type='GCE',\n",
    "    seed = seed)\n",
    "\n",
    "    valid(remote=True,\n",
    "    model=model,\n",
    "    epoch=epoch,\n",
    "    device=device,\n",
    "    dataloaders=dataloaders,\n",
    "    loss_fn=loss_fn,\n",
    "    loss_type='GCE')\n",
    "\n",
    "    test(remote=True,\n",
    "    model=model,\n",
    "    epoch=epoch,\n",
    "    device=device,\n",
    "    dataloaders=dataloaders,\n",
    "    loss_fn=loss_fn,\n",
    "    loss_type='GCE')"
   ]
  }
 ],
 "metadata": {
  "kernelspec": {
   "display_name": "gene",
   "language": "python",
   "name": "python3"
  },
  "language_info": {
   "codemirror_mode": {
    "name": "ipython",
    "version": 3
   },
   "file_extension": ".py",
   "mimetype": "text/x-python",
   "name": "python",
   "nbconvert_exporter": "python",
   "pygments_lexer": "ipython3",
   "version": "3.9.0"
  }
 },
 "nbformat": 4,
 "nbformat_minor": 2
}
