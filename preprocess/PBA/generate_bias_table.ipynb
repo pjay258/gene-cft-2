{
 "cells": [
  {
   "cell_type": "code",
   "execution_count": 1,
   "metadata": {},
   "outputs": [],
   "source": [
    "import torch\n",
    "from utils.networks import return_resnet18\n",
    "from utils.dataloader import return_dataloaders\n",
    "from glob import glob"
   ]
  },
  {
   "cell_type": "code",
   "execution_count": 2,
   "metadata": {},
   "outputs": [],
   "source": [
    "dataset = 'bffhq'\n",
    "batch_size = 4\n",
    "num_BDC = 5\n",
    "PBA = []\n",
    "for BCD_idx in range(num_BDC):\n",
    "    BCD = return_resnet18(num_classes=2)\n",
    "    # BCD.load_state_dict(torch.load(f'./models/{dataset}/BCD{BCD_idx}.pth'))\n",
    "    BCD.eval()\n",
    "    PBA.append(BCD)"
   ]
  },
  {
   "cell_type": "code",
   "execution_count": null,
   "metadata": {},
   "outputs": [],
   "source": [
    "import torch.nn as nn\n",
    "import pandas as pd\n",
    "bias_prob_threshold = 0.5\n",
    "softmax = nn.Softmax(dim=1)\n",
    "dataloaders = return_dataloaders(dataset=dataset,\n",
    "                                root='../../dataset/',\n",
    "                                batch_size=batch_size,\n",
    "                                shuffle=True)\n",
    "\n",
    "for batch_idx, (X, y, path, *_) in enumerate(dataloaders['train']):\n",
    "    gt_probs_list = []\n",
    "    for BCD_idx in range(num_BDC):\n",
    "        logits = PBA[BCD_idx](X)\n",
    "        probs = softmax(logits)\n",
    "        print(probs)\n",
    "        result = probs.gather(1, y.unsqueeze(1)).squeeze(1)\n",
    "        gt_probs_list.append(result)\n",
    "\n",
    "    gt_probs = torch.stack(gt_probs_list, dim=0)\n",
    "\n",
    "    # p_y가 bias_prob_threshold를 초과하도록 예측한 BCD가 절반 이상이면 biased(True)\n",
    "    # 그렇지 않으면 conflict(False)\n",
    "    bias_flag = (gt_probs>bias_prob_threshold).sum(dim=0)>(num_BDC/2)\n",
    "    int_bias_flag = bias_flag.long()\n",
    "    list_bias_flag = int_bias_flag.tolist()\n",
    "\n",
    "    batch_bias_table = {\n",
    "        'file_path': path,\n",
    "        'bias': list_bias_flag\n",
    "    }\n",
    "    df = pd.DataFrame(batch_bias_table)\n",
    "    df.to_csv(f'./bias_tables/{dataset}/bias_table_{batch_idx}.csv', index=False)\n",
    "\n",
    "    if batch_idx == 3:\n",
    "        break"
   ]
  },
  {
   "cell_type": "code",
   "execution_count": 4,
   "metadata": {},
   "outputs": [],
   "source": [
    "bias_tables = glob(f'./bias_tables/{dataset}/bias_table_*.csv')\n",
    "dfs = [pd.read_csv(f) for f in bias_tables]\n",
    "df = pd.concat(dfs, ignore_index=True)\n",
    "df.to_csv(f'./bias_tables/{dataset}/bias_table.csv', index=False)"
   ]
  }
 ],
 "metadata": {
  "kernelspec": {
   "display_name": "gene",
   "language": "python",
   "name": "python3"
  },
  "language_info": {
   "codemirror_mode": {
    "name": "ipython",
    "version": 3
   },
   "file_extension": ".py",
   "mimetype": "text/x-python",
   "name": "python",
   "nbconvert_exporter": "python",
   "pygments_lexer": "ipython3",
   "version": "3.9.0"
  }
 },
 "nbformat": 4,
 "nbformat_minor": 2
}
